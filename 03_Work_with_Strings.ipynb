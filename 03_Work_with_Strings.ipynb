{
  "nbformat": 4,
  "nbformat_minor": 0,
  "metadata": {
    "colab": {
      "name": "Untitled1.ipynb",
      "provenance": [],
      "authorship_tag": "ABX9TyP2KhlACqQOx/0k0KP9YNSD",
      "include_colab_link": true
    },
    "kernelspec": {
      "name": "python3",
      "display_name": "Python 3"
    },
    "language_info": {
      "name": "python"
    }
  },
  "cells": [
    {
      "cell_type": "markdown",
      "metadata": {
        "id": "view-in-github",
        "colab_type": "text"
      },
      "source": [
        "<a href=\"https://colab.research.google.com/github/vic1942/Python_Tutorial_01/blob/main/03_Work_with_Strings.ipynb\" target=\"_parent\"><img src=\"https://colab.research.google.com/assets/colab-badge.svg\" alt=\"Open In Colab\"/></a>"
      ]
    },
    {
      "cell_type": "code",
      "metadata": {
        "id": "AXWAHoTns4kZ",
        "colab": {
          "base_uri": "https://localhost:8080/"
        },
        "outputId": "063024c9-cdd9-44ab-dc71-56bf67d09133"
      },
      "source": [
        "print(\"Empower\")\n",
        "#\\n operand\n",
        "print(\"Empower\\nMy company\")\n",
        "# \\\" printing quatation mark\n",
        "print(\"Em\\\"power\")\n",
        "print(\"Em\\power\") # just the baclslash\n",
        "phrase = \"It's nothing\"\n",
        "print(phrase)\n",
        "print(phrase +\" cool\")\n",
        "# functions\n",
        "print(phrase.lower())\n",
        "print(phrase.upper())\n",
        "print(phrase.isupper())\n",
        "# combination of the functions\n",
        "print(phrase.upper().isupper())\n",
        "print(len(phrase))\n",
        "print(phrase[0])\n",
        "# in Python indecsing from 0\n",
        "#0 1 2 3 4\n",
        "print(phrase[2])\n",
        "# print(phrase.index(\"G\"))\n",
        "print(phrase.index(\"n\"))\n",
        "print(phrase.index(\"It's\"))\n",
        "print(phrase.replace(\"nothing\", \"everything\"))"
      ],
      "execution_count": 2,
      "outputs": [
        {
          "output_type": "stream",
          "text": [
            "Man named George\n",
            "70 years old\n",
            "Liked name\n",
            "Didn't like age\n",
            "new version\n",
            "Man named John,\n",
            "_35 years old\n",
            "Liked name John\n",
            "Didn't like 35\n",
            "He is 65\n",
            "50.4567\n",
            "Also\n"
          ],
          "name": "stdout"
        }
      ]
    }
  ]
}