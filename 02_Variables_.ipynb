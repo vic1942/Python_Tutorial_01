{
  "nbformat": 4,
  "nbformat_minor": 0,
  "metadata": {
    "colab": {
      "name": "Untitled1.ipynb",
      "provenance": [],
      "authorship_tag": "ABX9TyM3EUxksiv3joPE6uz2NNFj",
      "include_colab_link": true
    },
    "kernelspec": {
      "name": "python3",
      "display_name": "Python 3"
    },
    "language_info": {
      "name": "python"
    }
  },
  "cells": [
    {
      "cell_type": "markdown",
      "metadata": {
        "id": "view-in-github",
        "colab_type": "text"
      },
      "source": [
        "<a href=\"https://colab.research.google.com/github/vic1942/Python_Tutorial_01/blob/main/02_Variables_.ipynb\" target=\"_parent\"><img src=\"https://colab.research.google.com/assets/colab-badge.svg\" alt=\"Open In Colab\"/></a>"
      ]
    },
    {
      "cell_type": "code",
      "metadata": {
        "id": "AXWAHoTns4kZ",
        "colab": {
          "base_uri": "https://localhost:8080/"
        },
        "outputId": "063024c9-cdd9-44ab-dc71-56bf67d09133"
      },
      "source": [
        "# string varaibles\n",
        "char_name = \"John\"   # character variable\n",
        "char_age = \"35\"     # string variable\n",
        "# first version\n",
        "print(\"Man named George\")\n",
        "print(\"70 years old\")\n",
        "print(\"Liked name\")\n",
        "print(\"Didn't like age\")\n",
        "# new version\n",
        "print(\"new version\")\n",
        "print(\"Man named \" + char_name + \",\")\n",
        "print(\"_\" + char_age + \" years old\")\n",
        "print(\"Liked name \" + char_name)\n",
        "print(\"Didn't like \" + char_age)\n",
        "char_age = \"65\"\n",
        "print(\"He is \" + char_age)\n",
        "# varaible numbers \n",
        "char_age_1 = 50\n",
        "just_num = 50.4567\n",
        "# Boolean variables\n",
        "isMale = True\n",
        "IsFemale = False\n",
        "print(just_num)\n",
        "print(\"Also\")"
      ],
      "execution_count": 2,
      "outputs": [
        {
          "output_type": "stream",
          "text": [
            "Man named George\n",
            "70 years old\n",
            "Liked name\n",
            "Didn't like age\n",
            "new version\n",
            "Man named John,\n",
            "_35 years old\n",
            "Liked name John\n",
            "Didn't like 35\n",
            "He is 65\n",
            "50.4567\n",
            "Also\n"
          ],
          "name": "stdout"
        }
      ]
    }
  ]
}